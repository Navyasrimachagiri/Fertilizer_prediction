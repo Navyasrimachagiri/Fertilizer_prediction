{
  "nbformat": 4,
  "nbformat_minor": 0,
  "metadata": {
    "colab": {
      "provenance": [],
      "authorship_tag": "ABX9TyOifQRUR5PUTMb/mEe8yw+k",
      "include_colab_link": true
    },
    "kernelspec": {
      "name": "python3",
      "display_name": "Python 3"
    },
    "language_info": {
      "name": "python"
    }
  },
  "cells": [
    {
      "cell_type": "markdown",
      "metadata": {
        "id": "view-in-github",
        "colab_type": "text"
      },
      "source": [
        "<a href=\"https://colab.research.google.com/github/Navyasrimachagiri/Fertilizer_prediction/blob/main/fertilizer.ipynb\" target=\"_parent\"><img src=\"https://colab.research.google.com/assets/colab-badge.svg\" alt=\"Open In Colab\"/></a>"
      ]
    },
    {
      "cell_type": "code",
      "execution_count": 1,
      "metadata": {
        "id": "e2_LwpMJaVoV"
      },
      "outputs": [],
      "source": [
        "import numpy as np\n",
        "import pandas as pd\n",
        "import matplotlib.pyplot as plt\n",
        "import seaborn as sns\n",
        "from scipy import stats"
      ]
    },
    {
      "cell_type": "code",
      "source": [
        "from google.colab import drive\n",
        "drive.mount('/content/drive')"
      ],
      "metadata": {
        "colab": {
          "base_uri": "https://localhost:8080/"
        },
        "id": "NW-ccfCOaeOg",
        "outputId": "63811696-47d0-4b3b-9e9c-71474f6fc910"
      },
      "execution_count": 2,
      "outputs": [
        {
          "output_type": "stream",
          "name": "stdout",
          "text": [
            "Mounted at /content/drive\n"
          ]
        }
      ]
    },
    {
      "cell_type": "code",
      "source": [
        "df=pd.read_csv(\"/content/drive/MyDrive/Fertilizer_prediction.csv\")"
      ],
      "metadata": {
        "id": "pjNk6KSLa0Pr"
      },
      "execution_count": 3,
      "outputs": []
    },
    {
      "cell_type": "code",
      "source": [
        "print(df.describe())"
      ],
      "metadata": {
        "colab": {
          "base_uri": "https://localhost:8080/"
        },
        "id": "pA-wSOPKa9RO",
        "outputId": "f6b971e5-d481-4b26-b16e-64666452df2e"
      },
      "execution_count": 4,
      "outputs": [
        {
          "output_type": "stream",
          "name": "stdout",
          "text": [
            "          Nitrogen   Phosphorus    Potassium           pH     Rainfall  \\\n",
            "count  4513.000000  4513.000000  4513.000000  4513.000000  4513.000000   \n",
            "mean     95.409927    54.341901    63.595170     6.715267   819.189010   \n",
            "std      38.060648    16.551991    35.691911     0.625198   251.730813   \n",
            "min      20.000000    10.000000     5.000000     5.500000   300.000000   \n",
            "25%      60.000000    40.000000    40.000000     6.000000   600.000000   \n",
            "50%     105.000000    55.000000    55.000000     6.500000   800.000000   \n",
            "75%     125.000000    65.000000    75.000000     7.000000  1000.000000   \n",
            "max     150.000000    90.000000   150.000000     8.500000  1700.000000   \n",
            "\n",
            "       Temperature  \n",
            "count  4513.000000  \n",
            "mean     25.915134  \n",
            "std       5.897328  \n",
            "min      10.000000  \n",
            "25%      20.000000  \n",
            "50%      25.000000  \n",
            "75%      30.000000  \n",
            "max      40.000000  \n"
          ]
        }
      ]
    },
    {
      "cell_type": "code",
      "source": [
        "print(len(df))"
      ],
      "metadata": {
        "colab": {
          "base_uri": "https://localhost:8080/"
        },
        "id": "rEh3u-I5bBev",
        "outputId": "70ef3c2e-f509-4b49-8f62-b5d83e020bec"
      },
      "execution_count": 5,
      "outputs": [
        {
          "output_type": "stream",
          "name": "stdout",
          "text": [
            "4513\n"
          ]
        }
      ]
    },
    {
      "cell_type": "code",
      "source": [
        "print(df.shape[0])"
      ],
      "metadata": {
        "colab": {
          "base_uri": "https://localhost:8080/"
        },
        "id": "avNPMBfabGpf",
        "outputId": "51d95c5f-69ce-4892-bec3-3672e3c97134"
      },
      "execution_count": 6,
      "outputs": [
        {
          "output_type": "stream",
          "name": "stdout",
          "text": [
            "4513\n"
          ]
        }
      ]
    },
    {
      "cell_type": "code",
      "source": [
        "#Checking outliers\n",
        "from scipy.stats import zscore\n",
        "any_outliers = (abs(df.select_dtypes(include=['number']).apply(zscore))).any().any()"
      ],
      "metadata": {
        "id": "I5CQwFsEbKrQ"
      },
      "execution_count": 7,
      "outputs": []
    },
    {
      "cell_type": "code",
      "source": [
        "print(any_outliers)"
      ],
      "metadata": {
        "colab": {
          "base_uri": "https://localhost:8080/"
        },
        "id": "7mv3coanbS0I",
        "outputId": "4c4b20d6-556f-462d-bb9d-b63b08560852"
      },
      "execution_count": 8,
      "outputs": [
        {
          "output_type": "stream",
          "name": "stdout",
          "text": [
            "True\n"
          ]
        }
      ]
    },
    {
      "cell_type": "code",
      "source": [
        "#Showing outlier in BoxPlot\n",
        "sns.set(style=\"whitegrid\")\n",
        "plt.figure(figsize=(15, 10))\n",
        "for i, column in enumerate(df.select_dtypes(include=['number']).columns):\n",
        "    plt.subplot(3, 3, i + 1)\n",
        "    sns.boxplot(x=df[column])\n",
        "    plt.title(column)\n",
        "\n",
        "plt.tight_layout()\n",
        "plt.show()\n"
      ],
      "metadata": {
        "colab": {
          "base_uri": "https://localhost:8080/",
          "height": 513
        },
        "id": "-OMlwYcHbWsU",
        "outputId": "db6a0969-19b1-4eee-d53c-7e89f361b016"
      },
      "execution_count": 9,
      "outputs": [
        {
          "output_type": "display_data",
          "data": {
            "text/plain": [
              "<Figure size 1500x1000 with 6 Axes>"
            ],
            "image/png": "[encoded data removed]"
          },
          "metadata": {}
        }
      ]
    },
    {
      "cell_type": "code",
      "source": [
        "Q1=df['Nitrogen'].quantile(0.25)\n",
        "Q3=df['Nitrogen'].quantile(0.75)\n",
        "IQR=Q3-Q1"
      ],
      "metadata": {
        "id": "z6UQ_QVob_Hy"
      },
      "execution_count": 11,
      "outputs": []
    },
    {
      "cell_type": "code",
      "source": [
        "lb=Q1-1.5*IQR\n",
        "ub=Q3+1.5*IQR"
      ],
      "metadata": {
        "id": "iic3iqy7cOFw"
      },
      "execution_count": 12,
      "outputs": []
    },
    {
      "cell_type": "code",
      "source": [
        "df_no=df[(df['Nitrogen']>=lb)&(df['Nitrogen']<=ub)]"
      ],
      "metadata": {
        "id": "qyuPNQ_GcXwz"
      },
      "execution_count": 13,
      "outputs": []
    },
    {
      "cell_type": "code",
      "source": [
        "print(df_no)"
      ],
      "metadata": {
        "colab": {
          "base_uri": "https://localhost:8080/"
        },
        "id": "UC5-ZwhuccOv",
        "outputId": "ead5f477-3232-4aee-feed-55d8116157d2"
      },
      "execution_count": 14,
      "outputs": [
        {
          "output_type": "stream",
          "name": "stdout",
          "text": [
            "     Soil_color  Nitrogen  Phosphorus  Potassium   pH  Rainfall  Temperature  \\\n",
            "0         Black        75          50        100  6.5      1000           20   \n",
            "1         Black        80          50        100  6.5      1000           20   \n",
            "2         Black        85          50        100  6.5      1000           20   \n",
            "3         Black        90          50        100  6.5      1000           20   \n",
            "4         Black        95          50        100  6.5      1000           20   \n",
            "...         ...       ...         ...        ...  ...       ...          ...   \n",
            "4508      Black       130          80        150  7.0      1400           30   \n",
            "4509      Black       135          80        150  7.0      1400           30   \n",
            "4510      Black       140          80        150  7.0      1400           30   \n",
            "4511      Black       145          80        150  7.0      1400           30   \n",
            "4512      Black       150          80        150  7.0      1400           30   \n",
            "\n",
            "     Fertilizer  \n",
            "0          Urea  \n",
            "1          Urea  \n",
            "2          Urea  \n",
            "3          Urea  \n",
            "4          Urea  \n",
            "...         ...  \n",
            "4508        MOP  \n",
            "4509        MOP  \n",
            "4510        MOP  \n",
            "4511        MOP  \n",
            "4512        MOP  \n",
            "\n",
            "[4513 rows x 8 columns]\n"
          ]
        }
      ]
    },
    {
      "cell_type": "code",
      "source": [
        "#Handling outliers\n",
        "def handle_outliers(df):\n",
        "    df_no_outliers = df.copy()\n",
        "    for column in df.select_dtypes(include=['number']).columns:\n",
        "        Q1 = df[column].quantile(0.25)\n",
        "        Q3 = df[column].quantile(0.75)\n",
        "        IQR = Q3 - Q1\n",
        "        lower_bound = Q1 - 1.5 * IQR\n",
        "        upper_bound = Q3 + 1.5 * IQR\n",
        "        df_no_outliers = df_no_outliers[(df_no_outliers[column] >= lower_bound) & (df_no_outliers[column] <= upper_bound)]\n",
        "\n",
        "    return df_no_outliers\n"
      ],
      "metadata": {
        "id": "MQDi04ACchx6"
      },
      "execution_count": 15,
      "outputs": []
    },
    {
      "cell_type": "code",
      "source": [
        "df_no_outliers = handle_outliers(df)"
      ],
      "metadata": {
        "id": "gb0Dj3HwcwGr"
      },
      "execution_count": 16,
      "outputs": []
    },
    {
      "cell_type": "code",
      "source": [
        "print(df_no_outliers)"
      ],
      "metadata": {
        "colab": {
          "base_uri": "https://localhost:8080/"
        },
        "id": "7xPI8D_Uc4TV",
        "outputId": "8318c9a7-8c13-43b5-df5b-acd13db495bf"
      },
      "execution_count": 17,
      "outputs": [
        {
          "output_type": "stream",
          "name": "stdout",
          "text": [
            "     Soil_color  Nitrogen  Phosphorus  Potassium   pH  Rainfall  Temperature  \\\n",
            "0         Black        75          50        100  6.5      1000           20   \n",
            "1         Black        80          50        100  6.5      1000           20   \n",
            "2         Black        85          50        100  6.5      1000           20   \n",
            "3         Black        90          50        100  6.5      1000           20   \n",
            "4         Black        95          50        100  6.5      1000           20   \n",
            "...         ...       ...         ...        ...  ...       ...          ...   \n",
            "4473      Black       130          80        125  7.5      1500           25   \n",
            "4474      Black       135          80        125  7.5      1500           25   \n",
            "4475      Black       140          80        125  7.5      1500           25   \n",
            "4476      Black       145          80        125  7.5      1500           25   \n",
            "4477      Black       150          80        125  7.5      1500           25   \n",
            "\n",
            "     Fertilizer  \n",
            "0          Urea  \n",
            "1          Urea  \n",
            "2          Urea  \n",
            "3          Urea  \n",
            "4          Urea  \n",
            "...         ...  \n",
            "4473        DAP  \n",
            "4474        DAP  \n",
            "4475        DAP  \n",
            "4476        DAP  \n",
            "4477        DAP  \n",
            "\n",
            "[4009 rows x 8 columns]\n"
          ]
        }
      ]
    },
    {
      "cell_type": "code",
      "source": [
        "print(len(df_no_outliers))"
      ],
      "metadata": {
        "colab": {
          "base_uri": "https://localhost:8080/"
        },
        "id": "Wlh7dLezc_ai",
        "outputId": "a0a026d7-90db-4865-b581-3e200332645d"
      },
      "execution_count": 18,
      "outputs": [
        {
          "output_type": "stream",
          "name": "stdout",
          "text": [
            "4009\n"
          ]
        }
      ]
    }
  ]
}